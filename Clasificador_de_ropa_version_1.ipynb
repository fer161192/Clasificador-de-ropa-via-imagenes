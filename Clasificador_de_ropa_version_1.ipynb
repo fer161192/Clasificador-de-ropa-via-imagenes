{
  "cells": [
    {
      "source": [
        "![clothing_classification](clothing_classification.png)\n"
      ],
      "metadata": {
        "id": "aaa02648-9eae-45ba-893f-88440e8e4235"
      },
      "id": "aaa02648-9eae-45ba-893f-88440e8e4235",
      "cell_type": "markdown"
    },
    {
      "source": [
        "Fashion Forward is a new AI-based e-commerce clothing retailer.\n",
        "They want to use image classification to automatically categorize new product listings, making it easier for customers to find what they're looking for. It will also assist in inventory management by quickly sorting items.\n",
        "\n",
        "As a data scientist tasked with implementing a garment classifier, your primary objective is to develop a machine learning model capable of accurately categorizing images of clothing items into distinct garment types such as shirts, trousers, shoes, etc."
      ],
      "metadata": {
        "id": "ad5a988c-1095-485a-a88c-002400a872be"
      },
      "id": "ad5a988c-1095-485a-a88c-002400a872be",
      "cell_type": "markdown"
    },
    {
      "source": [
        "# Run the cells below first"
      ],
      "metadata": {
        "executionCancelledAt": null,
        "executionTime": 1231,
        "lastExecutedAt": 1737996961746,
        "lastExecutedByKernel": "5a4121c6-3a03-4f2a-90e8-452f97ec3e0b",
        "lastScheduledRunId": null,
        "lastSuccessfullyExecutedCode": "# Run the cells below first",
        "id": "4a1ab317-f3e4-4e5f-93a7-9c27677c5ffb"
      },
      "id": "4a1ab317-f3e4-4e5f-93a7-9c27677c5ffb",
      "cell_type": "code",
      "execution_count": null,
      "outputs": []
    },
    {
      "source": [
        "!pip install torchmetrics\n",
        "!pip install torchvision"
      ],
      "metadata": {
        "executionCancelledAt": null,
        "executionTime": 7031,
        "lastExecutedAt": 1737996968778,
        "lastExecutedByKernel": "5a4121c6-3a03-4f2a-90e8-452f97ec3e0b",
        "lastScheduledRunId": null,
        "lastSuccessfullyExecutedCode": "!pip install torchmetrics\n!pip install torchvision",
        "outputsMetadata": {
          "0": {
            "height": 544,
            "type": "stream"
          }
        },
        "collapsed": true,
        "jupyter": {
          "outputs_hidden": true,
          "source_hidden": false
        },
        "colab": {
          "base_uri": "https://localhost:8080/"
        },
        "id": "93e7dae3-c192-4267-a0ed-18d1ac56c861",
        "outputId": "3e904e35-b6b7-4d49-966a-dececcfc4145"
      },
      "id": "93e7dae3-c192-4267-a0ed-18d1ac56c861",
      "cell_type": "code",
      "execution_count": null,
      "outputs": [
        {
          "output_type": "stream",
          "name": "stdout",
          "text": [
            "Requirement already satisfied: torchmetrics in /usr/local/lib/python3.11/dist-packages (1.6.1)\n",
            "Requirement already satisfied: numpy>1.20.0 in /usr/local/lib/python3.11/dist-packages (from torchmetrics) (1.26.4)\n",
            "Requirement already satisfied: packaging>17.1 in /usr/local/lib/python3.11/dist-packages (from torchmetrics) (24.2)\n",
            "Requirement already satisfied: torch>=2.0.0 in /usr/local/lib/python3.11/dist-packages (from torchmetrics) (2.5.1+cu121)\n",
            "Requirement already satisfied: lightning-utilities>=0.8.0 in /usr/local/lib/python3.11/dist-packages (from torchmetrics) (0.11.9)\n",
            "Requirement already satisfied: setuptools in /usr/local/lib/python3.11/dist-packages (from lightning-utilities>=0.8.0->torchmetrics) (75.1.0)\n",
            "Requirement already satisfied: typing-extensions in /usr/local/lib/python3.11/dist-packages (from lightning-utilities>=0.8.0->torchmetrics) (4.12.2)\n",
            "Requirement already satisfied: filelock in /usr/local/lib/python3.11/dist-packages (from torch>=2.0.0->torchmetrics) (3.17.0)\n",
            "Requirement already satisfied: networkx in /usr/local/lib/python3.11/dist-packages (from torch>=2.0.0->torchmetrics) (3.4.2)\n",
            "Requirement already satisfied: jinja2 in /usr/local/lib/python3.11/dist-packages (from torch>=2.0.0->torchmetrics) (3.1.5)\n",
            "Requirement already satisfied: fsspec in /usr/local/lib/python3.11/dist-packages (from torch>=2.0.0->torchmetrics) (2024.10.0)\n",
            "Requirement already satisfied: nvidia-cuda-nvrtc-cu12==12.1.105 in /usr/local/lib/python3.11/dist-packages (from torch>=2.0.0->torchmetrics) (12.1.105)\n",
            "Requirement already satisfied: nvidia-cuda-runtime-cu12==12.1.105 in /usr/local/lib/python3.11/dist-packages (from torch>=2.0.0->torchmetrics) (12.1.105)\n",
            "Requirement already satisfied: nvidia-cuda-cupti-cu12==12.1.105 in /usr/local/lib/python3.11/dist-packages (from torch>=2.0.0->torchmetrics) (12.1.105)\n",
            "Requirement already satisfied: nvidia-cudnn-cu12==9.1.0.70 in /usr/local/lib/python3.11/dist-packages (from torch>=2.0.0->torchmetrics) (9.1.0.70)\n",
            "Requirement already satisfied: nvidia-cublas-cu12==12.1.3.1 in /usr/local/lib/python3.11/dist-packages (from torch>=2.0.0->torchmetrics) (12.1.3.1)\n",
            "Requirement already satisfied: nvidia-cufft-cu12==11.0.2.54 in /usr/local/lib/python3.11/dist-packages (from torch>=2.0.0->torchmetrics) (11.0.2.54)\n",
            "Requirement already satisfied: nvidia-curand-cu12==10.3.2.106 in /usr/local/lib/python3.11/dist-packages (from torch>=2.0.0->torchmetrics) (10.3.2.106)\n",
            "Requirement already satisfied: nvidia-cusolver-cu12==11.4.5.107 in /usr/local/lib/python3.11/dist-packages (from torch>=2.0.0->torchmetrics) (11.4.5.107)\n",
            "Requirement already satisfied: nvidia-cusparse-cu12==12.1.0.106 in /usr/local/lib/python3.11/dist-packages (from torch>=2.0.0->torchmetrics) (12.1.0.106)\n",
            "Requirement already satisfied: nvidia-nccl-cu12==2.21.5 in /usr/local/lib/python3.11/dist-packages (from torch>=2.0.0->torchmetrics) (2.21.5)\n",
            "Requirement already satisfied: nvidia-nvtx-cu12==12.1.105 in /usr/local/lib/python3.11/dist-packages (from torch>=2.0.0->torchmetrics) (12.1.105)\n",
            "Requirement already satisfied: triton==3.1.0 in /usr/local/lib/python3.11/dist-packages (from torch>=2.0.0->torchmetrics) (3.1.0)\n",
            "Requirement already satisfied: sympy==1.13.1 in /usr/local/lib/python3.11/dist-packages (from torch>=2.0.0->torchmetrics) (1.13.1)\n",
            "Requirement already satisfied: nvidia-nvjitlink-cu12 in /usr/local/lib/python3.11/dist-packages (from nvidia-cusolver-cu12==11.4.5.107->torch>=2.0.0->torchmetrics) (12.6.85)\n",
            "Requirement already satisfied: mpmath<1.4,>=1.1.0 in /usr/local/lib/python3.11/dist-packages (from sympy==1.13.1->torch>=2.0.0->torchmetrics) (1.3.0)\n",
            "Requirement already satisfied: MarkupSafe>=2.0 in /usr/local/lib/python3.11/dist-packages (from jinja2->torch>=2.0.0->torchmetrics) (3.0.2)\n",
            "Requirement already satisfied: torchvision in /usr/local/lib/python3.11/dist-packages (0.20.1+cu121)\n",
            "Requirement already satisfied: numpy in /usr/local/lib/python3.11/dist-packages (from torchvision) (1.26.4)\n",
            "Requirement already satisfied: torch==2.5.1 in /usr/local/lib/python3.11/dist-packages (from torchvision) (2.5.1+cu121)\n",
            "Requirement already satisfied: pillow!=8.3.*,>=5.3.0 in /usr/local/lib/python3.11/dist-packages (from torchvision) (11.1.0)\n",
            "Requirement already satisfied: filelock in /usr/local/lib/python3.11/dist-packages (from torch==2.5.1->torchvision) (3.17.0)\n",
            "Requirement already satisfied: typing-extensions>=4.8.0 in /usr/local/lib/python3.11/dist-packages (from torch==2.5.1->torchvision) (4.12.2)\n",
            "Requirement already satisfied: networkx in /usr/local/lib/python3.11/dist-packages (from torch==2.5.1->torchvision) (3.4.2)\n",
            "Requirement already satisfied: jinja2 in /usr/local/lib/python3.11/dist-packages (from torch==2.5.1->torchvision) (3.1.5)\n",
            "Requirement already satisfied: fsspec in /usr/local/lib/python3.11/dist-packages (from torch==2.5.1->torchvision) (2024.10.0)\n",
            "Requirement already satisfied: nvidia-cuda-nvrtc-cu12==12.1.105 in /usr/local/lib/python3.11/dist-packages (from torch==2.5.1->torchvision) (12.1.105)\n",
            "Requirement already satisfied: nvidia-cuda-runtime-cu12==12.1.105 in /usr/local/lib/python3.11/dist-packages (from torch==2.5.1->torchvision) (12.1.105)\n",
            "Requirement already satisfied: nvidia-cuda-cupti-cu12==12.1.105 in /usr/local/lib/python3.11/dist-packages (from torch==2.5.1->torchvision) (12.1.105)\n",
            "Requirement already satisfied: nvidia-cudnn-cu12==9.1.0.70 in /usr/local/lib/python3.11/dist-packages (from torch==2.5.1->torchvision) (9.1.0.70)\n",
            "Requirement already satisfied: nvidia-cublas-cu12==12.1.3.1 in /usr/local/lib/python3.11/dist-packages (from torch==2.5.1->torchvision) (12.1.3.1)\n",
            "Requirement already satisfied: nvidia-cufft-cu12==11.0.2.54 in /usr/local/lib/python3.11/dist-packages (from torch==2.5.1->torchvision) (11.0.2.54)\n",
            "Requirement already satisfied: nvidia-curand-cu12==10.3.2.106 in /usr/local/lib/python3.11/dist-packages (from torch==2.5.1->torchvision) (10.3.2.106)\n",
            "Requirement already satisfied: nvidia-cusolver-cu12==11.4.5.107 in /usr/local/lib/python3.11/dist-packages (from torch==2.5.1->torchvision) (11.4.5.107)\n",
            "Requirement already satisfied: nvidia-cusparse-cu12==12.1.0.106 in /usr/local/lib/python3.11/dist-packages (from torch==2.5.1->torchvision) (12.1.0.106)\n",
            "Requirement already satisfied: nvidia-nccl-cu12==2.21.5 in /usr/local/lib/python3.11/dist-packages (from torch==2.5.1->torchvision) (2.21.5)\n",
            "Requirement already satisfied: nvidia-nvtx-cu12==12.1.105 in /usr/local/lib/python3.11/dist-packages (from torch==2.5.1->torchvision) (12.1.105)\n",
            "Requirement already satisfied: triton==3.1.0 in /usr/local/lib/python3.11/dist-packages (from torch==2.5.1->torchvision) (3.1.0)\n",
            "Requirement already satisfied: sympy==1.13.1 in /usr/local/lib/python3.11/dist-packages (from torch==2.5.1->torchvision) (1.13.1)\n",
            "Requirement already satisfied: nvidia-nvjitlink-cu12 in /usr/local/lib/python3.11/dist-packages (from nvidia-cusolver-cu12==11.4.5.107->torch==2.5.1->torchvision) (12.6.85)\n",
            "Requirement already satisfied: mpmath<1.4,>=1.1.0 in /usr/local/lib/python3.11/dist-packages (from sympy==1.13.1->torch==2.5.1->torchvision) (1.3.0)\n",
            "Requirement already satisfied: MarkupSafe>=2.0 in /usr/local/lib/python3.11/dist-packages (from jinja2->torch==2.5.1->torchvision) (3.0.2)\n"
          ]
        }
      ]
    },
    {
      "source": [
        "import numpy as np\n",
        "import torch\n",
        "import torch.nn as nn\n",
        "import torch.optim as optim\n",
        "import matplotlib.pyplot as plt\n",
        "from torch.utils.data import Dataset, DataLoader\n",
        "from torchmetrics import Accuracy, Precision, Recall"
      ],
      "metadata": {
        "executionCancelledAt": null,
        "executionTime": 5673,
        "lastExecutedAt": 1737996974453,
        "lastExecutedByKernel": "5a4121c6-3a03-4f2a-90e8-452f97ec3e0b",
        "lastScheduledRunId": null,
        "lastSuccessfullyExecutedCode": "import numpy as np\nimport torch\nimport torch.nn as nn\nimport torch.optim as optim\nimport matplotlib.pyplot as plt\nfrom torch.utils.data import Dataset, DataLoader\nfrom torchmetrics import Accuracy, Precision, Recall",
        "id": "ea8065b7-84fc-4376-afef-6db731dec4b3"
      },
      "id": "ea8065b7-84fc-4376-afef-6db731dec4b3",
      "cell_type": "code",
      "execution_count": null,
      "outputs": []
    },
    {
      "source": [
        "# Load datasets\n",
        "from torchvision import datasets\n",
        "import torchvision.transforms as transforms\n",
        "\n",
        "train_data = datasets.FashionMNIST(root='./data', train=True, download=True, transform=transforms.ToTensor())\n",
        "test_data = datasets.FashionMNIST(root='./data', train=False, download=True, transform=transforms.ToTensor())"
      ],
      "metadata": {
        "executionCancelledAt": null,
        "executionTime": 450,
        "lastExecutedAt": 1737996974905,
        "lastExecutedByKernel": "5a4121c6-3a03-4f2a-90e8-452f97ec3e0b",
        "lastScheduledRunId": null,
        "lastSuccessfullyExecutedCode": "# Load datasets\nfrom torchvision import datasets\nimport torchvision.transforms as transforms\n\ntrain_data = datasets.FashionMNIST(root='./data', train=True, download=True, transform=transforms.ToTensor())\ntest_data = datasets.FashionMNIST(root='./data', train=False, download=True, transform=transforms.ToTensor())",
        "outputsMetadata": {
          "0": {
            "height": 80,
            "type": "stream"
          },
          "1": {
            "height": 38,
            "type": "stream"
          },
          "2": {
            "height": 122,
            "type": "stream"
          },
          "3": {
            "height": 38,
            "type": "stream"
          },
          "4": {
            "height": 122,
            "type": "stream"
          },
          "5": {
            "height": 38,
            "type": "stream"
          },
          "6": {
            "height": 122,
            "type": "stream"
          },
          "7": {
            "height": 38,
            "type": "stream"
          },
          "8": {
            "height": 59,
            "type": "stream"
          }
        },
        "id": "662e1bf1-943f-4243-9fd4-02ce11609e8d"
      },
      "id": "662e1bf1-943f-4243-9fd4-02ce11609e8d",
      "cell_type": "code",
      "execution_count": null,
      "outputs": []
    },
    {
      "source": [
        "# Muestro 5 imágenes y etiquetas del dataset\n",
        "fig, axes = plt.subplots(1, 5, figsize=(12, 4))\n",
        "\n",
        "for i in range(5):\n",
        "    image, label = train_data[i]\n",
        "    axes[i].imshow(image.squeeze(), cmap='gray')\n",
        "    axes[i].set_title(f\"Etiqueta: {label}\")\n",
        "    axes[i].axis('off')\n",
        "\n",
        "plt.tight_layout()\n",
        "plt.show()"
      ],
      "metadata": {
        "executionCancelledAt": null,
        "executionTime": 561,
        "lastExecutedAt": 1737996975468,
        "lastExecutedByKernel": "5a4121c6-3a03-4f2a-90e8-452f97ec3e0b",
        "lastScheduledRunId": null,
        "lastSuccessfullyExecutedCode": "# Muestro 5 imágenes y etiquetas del dataset\nfig, axes = plt.subplots(1, 5, figsize=(12, 4))\n\nfor i in range(5):\n    image, label = train_data[i]\n    axes[i].imshow(image.squeeze(), cmap='gray')\n    axes[i].set_title(f\"Etiqueta: {label}\")\n    axes[i].axis('off')\n\nplt.tight_layout()\nplt.show()",
        "colab": {
          "base_uri": "https://localhost:8080/",
          "height": 281
        },
        "id": "b55259e5-52cd-4edc-8f87-4bcae2aad66b",
        "outputId": "08843fef-af80-44d0-ba33-6f9206c57fbb"
      },
      "id": "b55259e5-52cd-4edc-8f87-4bcae2aad66b",
      "cell_type": "code",
      "execution_count": null,
      "outputs": [
        {
          "output_type": "display_data",
          "data": {
            "text/plain": [
              "<Figure size 1200x400 with 5 Axes>"
            ],
            "image/png": "[encoded data removed]"
          },
          "metadata": {}
        }
      ]
    },
    {
      "source": [
        "# Obtener todas las etiquetas del dataset de entrenamiento\n",
        "labels = [label for _, label in train_data]\n",
        "\n",
        "# Contar cuántas imágenes hay por clase\n",
        "from collections import Counter\n",
        "print(Counter(labels))\n"
      ],
      "metadata": {
        "executionCancelledAt": null,
        "executionTime": 4975,
        "lastExecutedAt": 1737996980443,
        "lastExecutedByKernel": "5a4121c6-3a03-4f2a-90e8-452f97ec3e0b",
        "lastScheduledRunId": null,
        "lastSuccessfullyExecutedCode": "# Obtener todas las etiquetas del dataset de entrenamiento\nlabels = [label for _, label in train_data]\n\n# Contar cuántas imágenes hay por clase\nfrom collections import Counter\nprint(Counter(labels))\n",
        "outputsMetadata": {
          "0": {
            "height": 38,
            "type": "stream"
          }
        },
        "colab": {
          "base_uri": "https://localhost:8080/"
        },
        "id": "8edbf0e6-79b2-40ad-983c-dede7360ed06",
        "outputId": "abff275f-5dc6-4ae0-a725-f4b74130bf00"
      },
      "id": "8edbf0e6-79b2-40ad-983c-dede7360ed06",
      "cell_type": "code",
      "execution_count": null,
      "outputs": [
        {
          "output_type": "stream",
          "name": "stdout",
          "text": [
            "Counter({9: 6000, 0: 6000, 3: 6000, 2: 6000, 7: 6000, 5: 6000, 1: 6000, 6: 6000, 4: 6000, 8: 6000})\n"
          ]
        }
      ]
    },
    {
      "source": [
        "Esto quiere decir que hay 6000 muestras de ropa para todas las categorías (Desde la 0 hasta la 9)"
      ],
      "metadata": {
        "id": "d6cb7679-a44f-4198-b81e-6f8f3a32ee4e"
      },
      "id": "d6cb7679-a44f-4198-b81e-6f8f3a32ee4e",
      "cell_type": "markdown"
    },
    {
      "source": [
        "Que tipo de ropa representa cada etiqueta?\n",
        "\n",
        "Etiqueta\tClase (Categoría de ropa)\n",
        "0\t        T-shirt/top (Camiseta)\n",
        "1\t        Trouser (Pantalón)\n",
        "2\t        Pullover (Suéter)\n",
        "3\t        Dress (Vestido)\n",
        "4\t        Coat (Abrigo)\n",
        "5\t        Sandal (Sandalia)\n",
        "6\t        Shirt (Camisa)\n",
        "7\t        Sneaker (Zapatilla)\n",
        "8\t        Bag (Bolso)\n",
        "9\t        Ankle boot (Bota baja)"
      ],
      "metadata": {
        "id": "5a7a1b00-da97-4d77-94d5-64313091ffdd"
      },
      "id": "5a7a1b00-da97-4d77-94d5-64313091ffdd",
      "cell_type": "markdown"
    },
    {
      "source": [
        "Que tipo de ropa representa cada etiqueta?"
      ],
      "metadata": {
        "id": "8a75cc00-a5c9-4d9c-ab79-d1601ff37bf0"
      },
      "id": "8a75cc00-a5c9-4d9c-ab79-d1601ff37bf0",
      "cell_type": "markdown"
    },
    {
      "source": [
        "import pandas as pd\n",
        "\n",
        "labels_map = {\n",
        "    0: \"T-shirt/top (Camiseta)\",\n",
        "    1: \"Trouser (Pantalón)\",\n",
        "    2: \"Pullover (Suéter)\",\n",
        "    3: \"Dress (Vestido)\",\n",
        "    4: \"Coat (Abrigo)\",\n",
        "    5: \"Sandal (Sandalia)\",\n",
        "    6: \"Shirt (Camisa)\",\n",
        "    7: \"Sneaker (Zapatilla)\",\n",
        "    8: \"Bag (Bolso)\",\n",
        "    9: \"Ankle boot (Bota baja)\"\n",
        "}\n",
        "\n",
        "# Convertir a un DataFrame\n",
        "df_labels = pd.DataFrame(list(labels_map.items()), columns=[\"Etiqueta\", \"Clase (Categoría de ropa)\"])\n",
        "\n",
        "# Mostrar el DataFrame como tabla\n",
        "df_labels\n"
      ],
      "metadata": {
        "executionCancelledAt": null,
        "executionTime": 55,
        "lastExecutedAt": 1737996980498,
        "lastExecutedByKernel": "5a4121c6-3a03-4f2a-90e8-452f97ec3e0b",
        "lastScheduledRunId": null,
        "lastSuccessfullyExecutedCode": "import pandas as pd\n\nlabels_map = {\n    0: \"T-shirt/top (Camiseta)\",\n    1: \"Trouser (Pantalón)\",\n    2: \"Pullover (Suéter)\",\n    3: \"Dress (Vestido)\",\n    4: \"Coat (Abrigo)\",\n    5: \"Sandal (Sandalia)\",\n    6: \"Shirt (Camisa)\",\n    7: \"Sneaker (Zapatilla)\",\n    8: \"Bag (Bolso)\",\n    9: \"Ankle boot (Bota baja)\"\n}\n\n# Convertir a un DataFrame\ndf_labels = pd.DataFrame(list(labels_map.items()), columns=[\"Etiqueta\", \"Clase (Categoría de ropa)\"])\n\n# Mostrar el DataFrame como tabla\ndf_labels\n",
        "outputsMetadata": {
          "0": {
            "height": 550,
            "type": "dataFrame",
            "tableState": {
              "quickFilterText": "",
              "customFilter": {
                "const": {
                  "type": "boolean",
                  "valid": true,
                  "value": true
                },
                "id": "17a2475c-6664-4001-85ce-8cc7084063d7",
                "nodeType": "const"
              }
            }
          }
        },
        "colab": {
          "base_uri": "https://localhost:8080/",
          "height": 363
        },
        "id": "bcdb36c8-e1ad-4d03-b470-f2165dbf214d",
        "outputId": "7b480fef-2159-47b0-e4c8-76880be9dccf"
      },
      "id": "bcdb36c8-e1ad-4d03-b470-f2165dbf214d",
      "cell_type": "code",
      "execution_count": null,
      "outputs": [
        {
          "output_type": "execute_result",
          "data": {
            "text/plain": [
              "   Etiqueta Clase (Categoría de ropa)\n",
              "0         0    T-shirt/top (Camiseta)\n",
              "1         1        Trouser (Pantalón)\n",
              "2         2         Pullover (Suéter)\n",
              "3         3           Dress (Vestido)\n",
              "4         4             Coat (Abrigo)\n",
              "5         5         Sandal (Sandalia)\n",
              "6         6            Shirt (Camisa)\n",
              "7         7       Sneaker (Zapatilla)\n",
              "8         8               Bag (Bolso)\n",
              "9         9    Ankle boot (Bota baja)"
            ],
            "text/html": [
              "\n",
              "  <div id=\"df-ee586a96-b838-4a65-a2b7-427e5161b466\" class=\"colab-df-container\">\n",
              "    <div>\n",
              "<style scoped>\n",
              "    .dataframe tbody tr th:only-of-type {\n",
              "        vertical-align: middle;\n",
              "    }\n",
              "\n",
              "    .dataframe tbody tr th {\n",
              "        vertical-align: top;\n",
              "    }\n",
              "\n",
              "    .dataframe thead th {\n",
              "        text-align: right;\n",
              "    }\n",
              "</style>\n",
              "<table border=\"1\" class=\"dataframe\">\n",
              "  <thead>\n",
              "    <tr style=\"text-align: right;\">\n",
              "      <th></th>\n",
              "      <th>Etiqueta</th>\n",
              "      <th>Clase (Categoría de ropa)</th>\n",
              "    </tr>\n",
              "  </thead>\n",
              "  <tbody>\n",
              "    <tr>\n",
              "      <th>0</th>\n",
              "      <td>0</td>\n",
              "      <td>T-shirt/top (Camiseta)</td>\n",
              "    </tr>\n",
              "    <tr>\n",
              "      <th>1</th>\n",
              "      <td>1</td>\n",
              "      <td>Trouser (Pantalón)</td>\n",
              "    </tr>\n",
              "    <tr>\n",
              "      <th>2</th>\n",
              "      <td>2</td>\n",
              "      <td>Pullover (Suéter)</td>\n",
              "    </tr>\n",
              "    <tr>\n",
              "      <th>3</th>\n",
              "      <td>3</td>\n",
              "      <td>Dress (Vestido)</td>\n",
              "    </tr>\n",
              "    <tr>\n",
              "      <th>4</th>\n",
              "      <td>4</td>\n",
              "      <td>Coat (Abrigo)</td>\n",
              "    </tr>\n",
              "    <tr>\n",
              "      <th>5</th>\n",
              "      <td>5</td>\n",
              "      <td>Sandal (Sandalia)</td>\n",
              "    </tr>\n",
              "    <tr>\n",
              "      <th>6</th>\n",
              "      <td>6</td>\n",
              "      <td>Shirt (Camisa)</td>\n",
              "    </tr>\n",
              "    <tr>\n",
              "      <th>7</th>\n",
              "      <td>7</td>\n",
              "      <td>Sneaker (Zapatilla)</td>\n",
              "    </tr>\n",
              "    <tr>\n",
              "      <th>8</th>\n",
              "      <td>8</td>\n",
              "      <td>Bag (Bolso)</td>\n",
              "    </tr>\n",
              "    <tr>\n",
              "      <th>9</th>\n",
              "      <td>9</td>\n",
              "      <td>Ankle boot (Bota baja)</td>\n",
              "    </tr>\n",
              "  </tbody>\n",
              "</table>\n",
              "</div>\n",
              "    <div class=\"colab-df-buttons\">\n",
              "\n",
              "  <div class=\"colab-df-container\">\n",
              "    <button class=\"colab-df-convert\" onclick=\"convertToInteractive('df-ee586a96-b838-4a65-a2b7-427e5161b466')\"\n",
              "            title=\"Convert this dataframe to an interactive table.\"\n",
              "            style=\"display:none;\">\n",
              "\n",
              "  <svg xmlns=\"http://www.w3.org/2000/svg\" height=\"24px\" viewBox=\"0 -960 960 960\">\n",
              "    <path d=\"M120-120v-720h720v720H120Zm60-500h600v-160H180v160Zm220 220h160v-160H400v160Zm0 220h160v-160H400v160ZM180-400h160v-160H180v160Zm440 0h160v-160H620v160ZM180-180h160v-160H180v160Zm440 0h160v-160H620v160Z\"/>\n",
              "  </svg>\n",
              "    </button>\n",
              "\n",
              "  <style>\n",
              "    .colab-df-container {\n",
              "      display:flex;\n",
              "      gap: 12px;\n",
              "    }\n",
              "\n",
              "    .colab-df-convert {\n",
              "      background-color: #E8F0FE;\n",
              "      border: none;\n",
              "      border-radius: 50%;\n",
              "      cursor: pointer;\n",
              "      display: none;\n",
              "      fill: #1967D2;\n",
              "      height: 32px;\n",
              "      padding: 0 0 0 0;\n",
              "      width: 32px;\n",
              "    }\n",
              "\n",
              "    .colab-df-convert:hover {\n",
              "      background-color: #E2EBFA;\n",
              "      box-shadow: 0px 1px 2px rgba(60, 64, 67, 0.3), 0px 1px 3px 1px rgba(60, 64, 67, 0.15);\n",
              "      fill: #174EA6;\n",
              "    }\n",
              "\n",
              "    .colab-df-buttons div {\n",
              "      margin-bottom: 4px;\n",
              "    }\n",
              "\n",
              "    [theme=dark] .colab-df-convert {\n",
              "      background-color: #3B4455;\n",
              "      fill: #D2E3FC;\n",
              "    }\n",
              "\n",
              "    [theme=dark] .colab-df-convert:hover {\n",
              "      background-color: #434B5C;\n",
              "      box-shadow: 0px 1px 3px 1px rgba(0, 0, 0, 0.15);\n",
              "      filter: drop-shadow(0px 1px 2px rgba(0, 0, 0, 0.3));\n",
              "      fill: #FFFFFF;\n",
              "    }\n",
              "  </style>\n",
              "\n",
              "    <script>\n",
              "      const buttonEl =\n",
              "        document.querySelector('#df-ee586a96-b838-4a65-a2b7-427e5161b466 button.colab-df-convert');\n",
              "      buttonEl.style.display =\n",
              "        google.colab.kernel.accessAllowed ? 'block' : 'none';\n",
              "\n",
              "      async function convertToInteractive(key) {\n",
              "        const element = document.querySelector('#df-ee586a96-b838-4a65-a2b7-427e5161b466');\n",
              "        const dataTable =\n",
              "          await google.colab.kernel.invokeFunction('convertToInteractive',\n",
              "                                                    [key], {});\n",
              "        if (!dataTable) return;\n",
              "\n",
              "        const docLinkHtml = 'Like what you see? Visit the ' +\n",
              "          '<a target=\"_blank\" href=https://colab.research.google.com/notebooks/data_table.ipynb>data table notebook</a>'\n",
              "          + ' to learn more about interactive tables.';\n",
              "        element.innerHTML = '';\n",
              "        dataTable['output_type'] = 'display_data';\n",
              "        await google.colab.output.renderOutput(dataTable, element);\n",
              "        const docLink = document.createElement('div');\n",
              "        docLink.innerHTML = docLinkHtml;\n",
              "        element.appendChild(docLink);\n",
              "      }\n",
              "    </script>\n",
              "  </div>\n",
              "\n",
              "\n",
              "<div id=\"df-043896b0-ebf6-445b-8a32-8e84c05305d2\">\n",
              "  <button class=\"colab-df-quickchart\" onclick=\"quickchart('df-043896b0-ebf6-445b-8a32-8e84c05305d2')\"\n",
              "            title=\"Suggest charts\"\n",
              "            style=\"display:none;\">\n",
              "\n",
              "<svg xmlns=\"http://www.w3.org/2000/svg\" height=\"24px\"viewBox=\"0 0 24 24\"\n",
              "     width=\"24px\">\n",
              "    <g>\n",
              "        <path d=\"M19 3H5c-1.1 0-2 .9-2 2v14c0 1.1.9 2 2 2h14c1.1 0 2-.9 2-2V5c0-1.1-.9-2-2-2zM9 17H7v-7h2v7zm4 0h-2V7h2v10zm4 0h-2v-4h2v4z\"/>\n",
              "    </g>\n",
              "</svg>\n",
              "  </button>\n",
              "\n",
              "<style>\n",
              "  .colab-df-quickchart {\n",
              "      --bg-color: #E8F0FE;\n",
              "      --fill-color: #1967D2;\n",
              "      --hover-bg-color: #E2EBFA;\n",
              "      --hover-fill-color: #174EA6;\n",
              "      --disabled-fill-color: #AAA;\n",
              "      --disabled-bg-color: #DDD;\n",
              "  }\n",
              "\n",
              "  [theme=dark] .colab-df-quickchart {\n",
              "      --bg-color: #3B4455;\n",
              "      --fill-color: #D2E3FC;\n",
              "      --hover-bg-color: #434B5C;\n",
              "      --hover-fill-color: #FFFFFF;\n",
              "      --disabled-bg-color: #3B4455;\n",
              "      --disabled-fill-color: #666;\n",
              "  }\n",
              "\n",
              "  .colab-df-quickchart {\n",
              "    background-color: var(--bg-color);\n",
              "    border: none;\n",
              "    border-radius: 50%;\n",
              "    cursor: pointer;\n",
              "    display: none;\n",
              "    fill: var(--fill-color);\n",
              "    height: 32px;\n",
              "    padding: 0;\n",
              "    width: 32px;\n",
              "  }\n",
              "\n",
              "  .colab-df-quickchart:hover {\n",
              "    background-color: var(--hover-bg-color);\n",
              "    box-shadow: 0 1px 2px rgba(60, 64, 67, 0.3), 0 1px 3px 1px rgba(60, 64, 67, 0.15);\n",
              "    fill: var(--button-hover-fill-color);\n",
              "  }\n",
              "\n",
              "  .colab-df-quickchart-complete:disabled,\n",
              "  .colab-df-quickchart-complete:disabled:hover {\n",
              "    background-color: var(--disabled-bg-color);\n",
              "    fill: var(--disabled-fill-color);\n",
              "    box-shadow: none;\n",
              "  }\n",
              "\n",
              "  .colab-df-spinner {\n",
              "    border: 2px solid var(--fill-color);\n",
              "    border-color: transparent;\n",
              "    border-bottom-color: var(--fill-color);\n",
              "    animation:\n",
              "      spin 1s steps(1) infinite;\n",
              "  }\n",
              "\n",
              "  @keyframes spin {\n",
              "    0% {\n",
              "      border-color: transparent;\n",
              "      border-bottom-color: var(--fill-color);\n",
              "      border-left-color: var(--fill-color);\n",
              "    }\n",
              "    20% {\n",
              "      border-color: transparent;\n",
              "      border-left-color: var(--fill-color);\n",
              "      border-top-color: var(--fill-color);\n",
              "    }\n",
              "    30% {\n",
              "      border-color: transparent;\n",
              "      border-left-color: var(--fill-color);\n",
              "      border-top-color: var(--fill-color);\n",
              "      border-right-color: var(--fill-color);\n",
              "    }\n",
              "    40% {\n",
              "      border-color: transparent;\n",
              "      border-right-color: var(--fill-color);\n",
              "      border-top-color: var(--fill-color);\n",
              "    }\n",
              "    60% {\n",
              "      border-color: transparent;\n",
              "      border-right-color: var(--fill-color);\n",
              "    }\n",
              "    80% {\n",
              "      border-color: transparent;\n",
              "      border-right-color: var(--fill-color);\n",
              "      border-bottom-color: var(--fill-color);\n",
              "    }\n",
              "    90% {\n",
              "      border-color: transparent;\n",
              "      border-bottom-color: var(--fill-color);\n",
              "    }\n",
              "  }\n",
              "</style>\n",
              "\n",
              "  <script>\n",
              "    async function quickchart(key) {\n",
              "      const quickchartButtonEl =\n",
              "        document.querySelector('#' + key + ' button');\n",
              "      quickchartButtonEl.disabled = true;  // To prevent multiple clicks.\n",
              "      quickchartButtonEl.classList.add('colab-df-spinner');\n",
              "      try {\n",
              "        const charts = await google.colab.kernel.invokeFunction(\n",
              "            'suggestCharts', [key], {});\n",
              "      } catch (error) {\n",
              "        console.error('Error during call to suggestCharts:', error);\n",
              "      }\n",
              "      quickchartButtonEl.classList.remove('colab-df-spinner');\n",
              "      quickchartButtonEl.classList.add('colab-df-quickchart-complete');\n",
              "    }\n",
              "    (() => {\n",
              "      let quickchartButtonEl =\n",
              "        document.querySelector('#df-043896b0-ebf6-445b-8a32-8e84c05305d2 button');\n",
              "      quickchartButtonEl.style.display =\n",
              "        google.colab.kernel.accessAllowed ? 'block' : 'none';\n",
              "    })();\n",
              "  </script>\n",
              "</div>\n",
              "\n",
              "  <div id=\"id_a95f521b-e82f-44a3-adf0-81c0b0f8ee03\">\n",
              "    <style>\n",
              "      .colab-df-generate {\n",
              "        background-color: #E8F0FE;\n",
              "        border: none;\n",
              "        border-radius: 50%;\n",
              "        cursor: pointer;\n",
              "        display: none;\n",
              "        fill: #1967D2;\n",
              "        height: 32px;\n",
              "        padding: 0 0 0 0;\n",
              "        width: 32px;\n",
              "      }\n",
              "\n",
              "      .colab-df-generate:hover {\n",
              "        background-color: #E2EBFA;\n",
              "        box-shadow: 0px 1px 2px rgba(60, 64, 67, 0.3), 0px 1px 3px 1px rgba(60, 64, 67, 0.15);\n",
              "        fill: #174EA6;\n",
              "      }\n",
              "\n",
              "      [theme=dark] .colab-df-generate {\n",
              "        background-color: #3B4455;\n",
              "        fill: #D2E3FC;\n",
              "      }\n",
              "\n",
              "      [theme=dark] .colab-df-generate:hover {\n",
              "        background-color: #434B5C;\n",
              "        box-shadow: 0px 1px 3px 1px rgba(0, 0, 0, 0.15);\n",
              "        filter: drop-shadow(0px 1px 2px rgba(0, 0, 0, 0.3));\n",
              "        fill: #FFFFFF;\n",
              "      }\n",
              "    </style>\n",
              "    <button class=\"colab-df-generate\" onclick=\"generateWithVariable('df_labels')\"\n",
              "            title=\"Generate code using this dataframe.\"\n",
              "            style=\"display:none;\">\n",
              "\n",
              "  <svg xmlns=\"http://www.w3.org/2000/svg\" height=\"24px\"viewBox=\"0 0 24 24\"\n",
              "       width=\"24px\">\n",
              "    <path d=\"M7,19H8.4L18.45,9,17,7.55,7,17.6ZM5,21V16.75L18.45,3.32a2,2,0,0,1,2.83,0l1.4,1.43a1.91,1.91,0,0,1,.58,1.4,1.91,1.91,0,0,1-.58,1.4L9.25,21ZM18.45,9,17,7.55Zm-12,3A5.31,5.31,0,0,0,4.9,8.1,5.31,5.31,0,0,0,1,6.5,5.31,5.31,0,0,0,4.9,4.9,5.31,5.31,0,0,0,6.5,1,5.31,5.31,0,0,0,8.1,4.9,5.31,5.31,0,0,0,12,6.5,5.46,5.46,0,0,0,6.5,12Z\"/>\n",
              "  </svg>\n",
              "    </button>\n",
              "    <script>\n",
              "      (() => {\n",
              "      const buttonEl =\n",
              "        document.querySelector('#id_a95f521b-e82f-44a3-adf0-81c0b0f8ee03 button.colab-df-generate');\n",
              "      buttonEl.style.display =\n",
              "        google.colab.kernel.accessAllowed ? 'block' : 'none';\n",
              "\n",
              "      buttonEl.onclick = () => {\n",
              "        google.colab.notebook.generateWithVariable('df_labels');\n",
              "      }\n",
              "      })();\n",
              "    </script>\n",
              "  </div>\n",
              "\n",
              "    </div>\n",
              "  </div>\n"
            ],
            "application/vnd.google.colaboratory.intrinsic+json": {
              "type": "dataframe",
              "variable_name": "df_labels",
              "summary": "{\n  \"name\": \"df_labels\",\n  \"rows\": 10,\n  \"fields\": [\n    {\n      \"column\": \"Etiqueta\",\n      \"properties\": {\n        \"dtype\": \"number\",\n        \"std\": 3,\n        \"min\": 0,\n        \"max\": 9,\n        \"num_unique_values\": 10,\n        \"samples\": [\n          8,\n          1,\n          5\n        ],\n        \"semantic_type\": \"\",\n        \"description\": \"\"\n      }\n    },\n    {\n      \"column\": \"Clase (Categor\\u00eda de ropa)\",\n      \"properties\": {\n        \"dtype\": \"string\",\n        \"num_unique_values\": 10,\n        \"samples\": [\n          \"Bag (Bolso)\",\n          \"Trouser (Pantal\\u00f3n)\",\n          \"Sandal (Sandalia)\"\n        ],\n        \"semantic_type\": \"\",\n        \"description\": \"\"\n      }\n    }\n  ]\n}"
            }
          },
          "metadata": {},
          "execution_count": 19
        }
      ]
    },
    {
      "source": [
        "**Ahora definimos la red convolucional**"
      ],
      "metadata": {
        "id": "32dfac76-cc0c-42d8-9038-593941a4bd7c"
      },
      "id": "32dfac76-cc0c-42d8-9038-593941a4bd7c",
      "cell_type": "markdown"
    },
    {
      "source": [
        "#Obtenemos el numero de clases\n",
        "classes = train_data.classes\n",
        "num_classes = len(train_data.classes)\n",
        "print(num_classes)\n",
        "image_size = train_data[0][0].shape[1] #Necesito saber las dimensiones de la imagen para ingresarlo como dato de entrada en la capa de conexión comnpleta"
      ],
      "metadata": {
        "executionCancelledAt": null,
        "executionTime": 52,
        "lastExecutedAt": 1737996980550,
        "lastExecutedByKernel": "5a4121c6-3a03-4f2a-90e8-452f97ec3e0b",
        "lastScheduledRunId": null,
        "lastSuccessfullyExecutedCode": "#Obtenemos el numero de clases\nclasses = train_data.classes\nnum_classes = len(train_data.classes)\nprint(num_classes)\nimage_size = train_data[0][0].shape[1] #Necesito saber las dimensiones de la imagen para ingresarlo como dato de entrada en la capa de conexión comnpleta",
        "outputsMetadata": {
          "0": {
            "height": 38,
            "type": "stream"
          }
        },
        "colab": {
          "base_uri": "https://localhost:8080/"
        },
        "id": "69068e45-600a-469e-b564-b4ebf71ed599",
        "outputId": "76f268de-6330-4d2e-af42-27a74da5833b"
      },
      "cell_type": "code",
      "id": "69068e45-600a-469e-b564-b4ebf71ed599",
      "outputs": [
        {
          "output_type": "stream",
          "name": "stdout",
          "text": [
            "10\n"
          ]
        }
      ],
      "execution_count": null
    },
    {
      "source": [
        "class NetCNN(nn.Module):\n",
        "    def __init__(self, num_classes):\n",
        "        super(NetCNN, self).__init__()\n",
        "        #Primer y unico bloque convolucional\n",
        "        self.conv = nn.Conv2d(1, 32, kernel_size=3, stride=1,padding=1)\n",
        "        self.relu = nn.ReLU()\n",
        "        self.maxpool = nn.MaxPool2d(kernel_size=2)\n",
        "\n",
        "        #Capa completa conectada\n",
        "        self.flatten = nn.Flatten()\n",
        "        self.fc = nn.Linear(in_features= (32 * (image_size//2) ** 2), out_features= num_classes)\n",
        "        self.softmax = nn.Softmax(dim=1)\n",
        "\n",
        "    def forward(self, x):\n",
        "        #Primer bloque\n",
        "        x = self.conv(x)\n",
        "        x = self.relu(x)\n",
        "        x = self.maxpool(x)\n",
        "\n",
        "        #Conexion completa\n",
        "        x = self.flatten(x)\n",
        "        x = self.fc(x)\n",
        "        x = self.softmax(x)\n",
        "        return x"
      ],
      "metadata": {
        "executionCancelledAt": null,
        "executionTime": 52,
        "lastExecutedAt": 1737996980602,
        "lastExecutedByKernel": "5a4121c6-3a03-4f2a-90e8-452f97ec3e0b",
        "lastScheduledRunId": null,
        "lastSuccessfullyExecutedCode": "class NetCNN(nn.Module):\n    def __init__(self, num_classes):\n        super(NetCNN, self).__init__()\n        #Primer y unico bloque convolucional\n        self.conv = nn.Conv2d(1, 16, kernel_size=3, stride=1,padding=1)\n        self.relu = nn.ReLU()\n        self.maxpool = nn.MaxPool2d(kernel_size=2)\n        \n        #Capa completa conectada\n        self.flatten = nn.Flatten()\n        self.fc = nn.Linear(in_features= (16 * (image_size//2) ** 2), out_features= num_classes) \n        self.softmax = nn.Softmax(dim=1)\n        \n    def forward(self, x):\n        #Primer bloque\n        x = self.conv(x)\n        x = self.relu(x)\n        x = self.maxpool(x)\n        \n        #Conexion completa\n        x = self.flatten(x)\n        x = self.fc(x)\n        x = self.softmax(x)\n        return x  ",
        "id": "17a7ab25-e334-4f0c-b997-60afa1d506ba"
      },
      "id": "17a7ab25-e334-4f0c-b997-60afa1d506ba",
      "cell_type": "code",
      "execution_count": null,
      "outputs": []
    },
    {
      "source": [
        "**Ahora entrenamos el modelo**"
      ],
      "metadata": {
        "id": "8b81070f-efeb-4b5c-862a-d3afba9a3e73"
      },
      "id": "8b81070f-efeb-4b5c-862a-d3afba9a3e73",
      "cell_type": "markdown"
    },
    {
      "source": [
        "#Creamos el Dataloader para el conjunto de entrenamiento y prueba\n",
        "train_loader = DataLoader(train_data, batch_size=10, shuffle=True)\n",
        "#Shuffle sirve para mezclar los datos aleatoriamente en cada época durante el entrenamiento\n",
        "test_loader = DataLoader(test_data, batch_size=10, shuffle=False)\n",
        "\n",
        "def entrenar_modelo(optimizer, model, num_epocas):\n",
        "    num_procesado = 0\n",
        "    criterion = nn.CrossEntropyLoss()\n",
        "    for epoca in range(num_epocas):\n",
        "        running_loss = 0\n",
        "        num_procesado = 0\n",
        "        for images, labels in train_loader:\n",
        "            #Inicializamos los gradientes a cero\n",
        "            optimizer.zero_grad()\n",
        "            #Pasar las imágenes por el modelo\n",
        "            outputs = modelo_cnn(images)\n",
        "            loss = criterion(outputs, labels)\n",
        "            loss.backward()\n",
        "            optimizer.step()\n",
        "            running_loss += loss.item()\n",
        "            num_procesado += len(labels)\n",
        "\n",
        "        print(f'epoch {epoca}, loss: {running_loss / num_procesado}')\n",
        "\n",
        "    train_loss = running_loss / len(train_loader)\n",
        "\n",
        "# Entrenarlo para una época\n",
        "modelo_cnn = NetCNN(num_classes)\n",
        "#Definimos el criterio de perdida\n",
        "optimizer = optim.Adam(modelo_cnn.parameters(), lr=0.001)\n",
        "\n",
        "entrenar_modelo(\n",
        "    optimizer=optimizer,\n",
        "    model=modelo_cnn,\n",
        "    num_epocas=1,\n",
        ")\n"
      ],
      "metadata": {
        "executionTime": null,
        "lastExecutedAt": null,
        "lastExecutedByKernel": null,
        "lastScheduledRunId": null,
        "lastSuccessfullyExecutedCode": null,
        "executionCancelledAt": null,
        "outputsMetadata": {
          "0": {
            "height": 38,
            "type": "stream"
          }
        },
        "colab": {
          "base_uri": "https://localhost:8080/"
        },
        "id": "a948859e-bdf5-4f3e-8c3c-907426c4559b",
        "outputId": "9f638c38-f570-457e-e23b-3e04d6e3ca73"
      },
      "id": "a948859e-bdf5-4f3e-8c3c-907426c4559b",
      "cell_type": "code",
      "execution_count": null,
      "outputs": [
        {
          "output_type": "stream",
          "name": "stdout",
          "text": [
            "epoch 0, loss: 0.17101956820885342\n"
          ]
        }
      ]
    },
    {
      "source": [
        "**Ahora evaluamos las metricas**"
      ],
      "metadata": {
        "id": "24fe28b1-af48-4376-b8fb-138cc08610e0"
      },
      "id": "24fe28b1-af48-4376-b8fb-138cc08610e0",
      "cell_type": "markdown"
    },
    {
      "source": [
        "metric_precision = Precision(\n",
        "    task=\"multiclass\", num_classes=10, average=\"macro\"\n",
        ")\n",
        "metric_recall = Recall(\n",
        "    task=\"multiclass\", num_classes=10, average=\"macro\"\n",
        ")\n",
        "metric_accuracy = Accuracy(\n",
        "    task=\"multiclass\", num_classes=10, average=\"macro\"\n",
        ")\n",
        "\n",
        "predictions = []\n",
        "precisions = []  # Nueva lista para almacenar los valores de precisión por lote\n",
        "\n",
        "modelo_cnn.eval()\n",
        "with torch.no_grad():\n",
        "    for images1, labels in test_loader:\n",
        "        outputs = modelo_cnn(images1)\n",
        "        _, preds = torch.max(outputs, 1)\n",
        "        predictions.extend(preds.tolist())\n",
        "        metric_precision(preds, labels)\n",
        "        metric_recall(preds, labels)\n",
        "        metric_accuracy(preds, labels)\n",
        "        # Guardar la precisión de este lote como un valor en la lista\n",
        "        precisions.append(metric_precision.compute().item())\n",
        "\n",
        "#Publicamos las métricas\n",
        "precision = metric_precision.compute().item()\n",
        "recall = metric_recall.compute().tolist()\n",
        "accuracy = metric_accuracy.compute().tolist()\n",
        "print(f\"Precision: {precision}\")\n",
        "print(f\"Recall: {recall}\")\n",
        "print(f\"Accuracy: {accuracy}\")\n",
        "\n",
        "#Mostramos las primeras predicciones\n",
        "print(predictions[:10])\n",
        "\n",
        "# Mostramos la lista de precisiones por lote\n",
        "print(f\"Precisions por lote: {precisions}\")"
      ],
      "metadata": {
        "executionCancelledAt": null,
        "executionTime": 11642,
        "lastExecutedAt": 1737961057899,
        "lastExecutedByKernel": "0bb6856a-a488-46db-acea-a3d005d7d660",
        "lastScheduledRunId": null,
        "lastSuccessfullyExecutedCode": "metric_precision = Precision(\n    task=\"multiclass\", num_classes=10, average=\"macro\"\n)\nmetric_recall = Recall(\n    task=\"multiclass\", num_classes=10, average=\"macro\"\n)\nmetric_accuracy = Accuracy(\n    task=\"multiclass\", num_classes=10, average=\"macro\"\n)\n\npredictions = []\nprecisions = []  # Nueva lista para almacenar los valores de precisión por lote\n\nmodelo_cnn.eval()\nwith torch.no_grad():\n    for images, labels in test_loader:\n        outputs = modelo_cnn(images)\n        _, preds = torch.max(outputs, 1)\n        predictions.extend(preds.tolist())\n        metric_precision(preds, labels)\n        metric_recall(preds, labels)\n        metric_accuracy(preds, labels)\n        # Guardar la precisión de este lote como un valor en la lista\n        precisions.append(metric_precision.compute().item())\n        \n#Publicamos las métricas\nprecision = metric_precision.compute().item()\nrecall = metric_recall.compute().tolist()\naccuracy = metric_accuracy.compute().tolist()\nprint(f\"Precision: {precision}\")\nprint(f\"Recall: {recall}\")\nprint(f\"Accuracy: {accuracy}\")\n\n#Mostramos las primeras predicciones\nprint(predictions[:10])\n\n# Mostramos la lista de precisiones por lote\nprint(f\"Precisions por lote: {precisions}\")",
        "outputsMetadata": {
          "0": {
            "height": 616,
            "type": "stream"
          }
        },
        "colab": {
          "base_uri": "https://localhost:8080/"
        },
        "id": "999980c7-79da-45cc-9f3a-35242efae1ec",
        "outputId": "207d5a2b-123b-456c-cc83-2165b09eda57"
      },
      "id": "999980c7-79da-45cc-9f3a-35242efae1ec",
      "cell_type": "code",
      "execution_count": null,
      "outputs": [
        {
          "output_type": "stream",
          "name": "stdout",
          "text": [
            "Precision: 0.7486910223960876\n",
            "Recall: 0.8095000386238098\n",
            "Accuracy: 0.8095000386238098\n",
            "[9, 2, 1, 1, 6, 1, 6, 6, 5, 7]\n",
            "Precisions por lote: [0.8095238208770752, 0.7500000596046448, 0.68452388048172, 0.7395238280296326, 0.6877777576446533, 0.6969192028045654, 0.6787374019622803, 0.6982234120368958, 0.7230799794197083, 0.7216594219207764, 0.727237343788147, 0.7399939298629761, 0.7468304634094238, 0.74161297082901, 0.7409430742263794, 0.7272030115127563, 0.7299384474754333, 0.7368114590644836, 0.7328001260757446, 0.7434810400009155, 0.7459217309951782, 0.7477135062217712, 0.7515129446983337, 0.7509985566139221, 0.7541610598564148, 0.7549332976341248, 0.7593734860420227, 0.7601339817047119, 0.7625615000724792, 0.7654666304588318, 0.7664157152175903, 0.7631231546401978, 0.7642850875854492, 0.7636366486549377, 0.7589143514633179, 0.7598145008087158, 0.7609805464744568, 0.7598152756690979, 0.7597078680992126, 0.7606647610664368, 0.7577268481254578, 0.756001353263855, 0.7560758590698242, 0.7552280426025391, 0.7555602788925171, 0.7568874359130859, 0.7569312453269958, 0.7538632750511169, 0.7558355331420898, 0.7556651830673218, 0.7582700848579407, 0.7591375708580017, 0.7585428357124329, 0.7573514580726624, 0.7568483948707581, 0.7569590210914612, 0.7550668716430664, 0.7528591752052307, 0.7496451735496521, 0.7496684789657593, 0.7514156103134155, 0.7525054812431335, 0.7534055709838867, 0.7511941194534302, 0.7495835423469543, 0.7486230731010437, 0.7488367557525635, 0.7477816343307495, 0.7467888593673706, 0.749374270439148, 0.7463103532791138, 0.7471954226493835, 0.747329831123352, 0.7482169270515442, 0.7479456067085266, 0.7485636472702026, 0.7485151886940002, 0.7473784685134888, 0.7460659146308899, 0.7460840940475464, 0.7437834739685059, 0.744481086730957, 0.7445558905601501, 0.7454675436019897, 0.7466156482696533, 0.7469590902328491, 0.7468709945678711, 0.7473411560058594, 0.7458075284957886, 0.7447220683097839, 0.7445976138114929, 0.745978057384491, 0.74596107006073, 0.7438437938690186, 0.7450167536735535, 0.7457129955291748, 0.7452394962310791, 0.742547869682312, 0.7437743544578552, 0.7432082891464233, 0.7433059215545654, 0.7441002726554871, 0.7440704107284546, 0.74494868516922, 0.7468124628067017, 0.7458277344703674, 0.7451524138450623, 0.7444643974304199, 0.7454758882522583, 0.7456847429275513, 0.744722843170166, 0.7443416714668274, 0.7451106309890747, 0.7446826100349426, 0.7446869611740112, 0.745045006275177, 0.7451543807983398, 0.7452278137207031, 0.7457718253135681, 0.745833694934845, 0.7462072372436523, 0.7458149194717407, 0.7450700998306274, 0.7435514330863953, 0.7427520155906677, 0.7433215975761414, 0.7433223128318787, 0.7442519068717957, 0.7442823648452759, 0.7433778047561646, 0.7432981729507446, 0.7431931495666504, 0.743272066116333, 0.7428834438323975, 0.7430768013000488, 0.7436102628707886, 0.7439112663269043, 0.7443196177482605, 0.7443427443504333, 0.7446120381355286, 0.744378924369812, 0.7449173927307129, 0.7456045150756836, 0.7459623217582703, 0.7464227676391602, 0.7460306286811829, 0.7459341883659363, 0.7459710836410522, 0.7470054626464844, 0.7468516230583191, 0.7472820281982422, 0.7475595474243164, 0.7474126219749451, 0.7478351593017578, 0.7480400800704956, 0.748009443283081, 0.7484590411186218, 0.7490112781524658, 0.7490507364273071, 0.7492680549621582, 0.7495394349098206, 0.7500544190406799, 0.7504001259803772, 0.7509125471115112, 0.750300943851471, 0.7498639822006226, 0.7494771480560303, 0.7482162117958069, 0.7488692998886108, 0.7495352625846863, 0.7495421171188354, 0.749164342880249, 0.7501702308654785, 0.7510800361633301, 0.7517505884170532, 0.7521802186965942, 0.7528557777404785, 0.7524835467338562, 0.7527974843978882, 0.7529748678207397, 0.75314861536026, 0.751475989818573, 0.7509641647338867, 0.7507151961326599, 0.7505260109901428, 0.7501401305198669, 0.7498035430908203, 0.75006103515625, 0.7505090236663818, 0.7505128979682922, 0.750727117061615, 0.7502691149711609, 0.7510248422622681, 0.7515152096748352, 0.7514640688896179, 0.750581681728363, 0.7508252859115601, 0.7516008019447327, 0.7513185739517212, 0.7519121766090393, 0.7510305047035217, 0.7509655356407166, 0.7510389089584351, 0.7506790161132812, 0.7507798671722412, 0.7513695359230042, 0.7512169480323792, 0.7511455416679382, 0.751496434211731, 0.752143144607544, 0.7519919276237488, 0.7524344325065613, 0.7519216537475586, 0.7521498203277588, 0.7525307536125183, 0.7528982758522034, 0.7532936334609985, 0.7537694573402405, 0.75383061170578, 0.7536752820014954, 0.753616213798523, 0.7535525560379028, 0.7539594173431396, 0.7540501356124878, 0.7539271116256714, 0.7535272240638733, 0.7536365389823914, 0.7532737255096436, 0.7532273530960083, 0.7530250549316406, 0.7533628344535828, 0.7530295848846436, 0.7527886033058167, 0.7525733113288879, 0.7529808878898621, 0.7530263066291809, 0.7526832818984985, 0.7524440288543701, 0.7527841329574585, 0.7524518966674805, 0.7526807188987732, 0.7524651288986206, 0.7520911693572998, 0.7519259452819824, 0.7512518167495728, 0.7519508004188538, 0.7511016726493835, 0.7506300210952759, 0.7503762245178223, 0.7503480911254883, 0.7500974535942078, 0.7504070997238159, 0.7497297525405884, 0.7497782707214355, 0.7495570182800293, 0.7492132186889648, 0.7491979598999023, 0.7490803599357605, 0.7492011189460754, 0.7483267188072205, 0.7486374378204346, 0.7477641105651855, 0.747769296169281, 0.748182475566864, 0.748671293258667, 0.7485948204994202, 0.7485237717628479, 0.7483601570129395, 0.7480765581130981, 0.7477413415908813, 0.7477123737335205, 0.7478910684585571, 0.7480505704879761, 0.7477393746376038, 0.7480188608169556, 0.7482646703720093, 0.7482869029045105, 0.747529149055481, 0.7479709386825562, 0.7476747035980225, 0.7481788396835327, 0.7479802370071411, 0.7485136985778809, 0.7486547827720642, 0.7483213543891907, 0.7483586072921753, 0.7490538358688354, 0.7487069368362427, 0.7491477131843567, 0.7487484812736511, 0.748487651348114, 0.7480818033218384, 0.7482423186302185, 0.748253583908081, 0.7483935356140137, 0.7482218742370605, 0.748052716255188, 0.7482118606567383, 0.7482614517211914, 0.7480696439743042, 0.7475894689559937, 0.7478550672531128, 0.7480915188789368, 0.7482180595397949, 0.7484680414199829, 0.7484729290008545, 0.7486705183982849, 0.7486095428466797, 0.7477704882621765, 0.7480777502059937, 0.7484475374221802, 0.748534619808197, 0.7490742206573486, 0.7492702007293701, 0.7497705817222595, 0.749960720539093, 0.749970018863678, 0.7498165965080261, 0.7495017647743225, 0.7495965957641602, 0.7495799660682678, 0.7497740387916565, 0.749459445476532, 0.7489562034606934, 0.7486327886581421, 0.7484882473945618, 0.7481964230537415, 0.7479806542396545, 0.7479216456413269, 0.7480500936508179, 0.7481240034103394, 0.7477662563323975, 0.7474962472915649, 0.7472253441810608, 0.7474696636199951, 0.7474085688591003, 0.7471723556518555, 0.7475801706314087, 0.747596263885498, 0.747874915599823, 0.7480502128601074, 0.7481513619422913, 0.7479993104934692, 0.7478169798851013, 0.7472843527793884, 0.7473177313804626, 0.7468594312667847, 0.7467327117919922, 0.7465649247169495, 0.7469781041145325, 0.7468140721321106, 0.7470879554748535, 0.7472045421600342, 0.7466022372245789, 0.7466439604759216, 0.7465932369232178, 0.7466995120048523, 0.7469981908798218, 0.7470364570617676, 0.7474074363708496, 0.7473403811454773, 0.7471133470535278, 0.7467697262763977, 0.7467098832130432, 0.7467056512832642, 0.7470178604125977, 0.7469927072525024, 0.7469971776008606, 0.7472256422042847, 0.7472922801971436, 0.7472671270370483, 0.7473461031913757, 0.747830331325531, 0.747258722782135, 0.7469134330749512, 0.747231125831604, 0.7474120855331421, 0.7477803230285645, 0.7478203773498535, 0.7478826642036438, 0.7472585439682007, 0.7473527193069458, 0.7472305297851562, 0.7470513582229614, 0.7471755743026733, 0.7472130656242371, 0.7471610307693481, 0.747160792350769, 0.7473163604736328, 0.747221827507019, 0.7472843527793884, 0.7471769452095032, 0.7475340366363525, 0.7477498054504395, 0.7477343082427979, 0.7479806542396545, 0.7478594779968262, 0.7478829026222229, 0.7478132247924805, 0.7477779984474182, 0.7480193376541138, 0.7476509809494019, 0.747689962387085, 0.74784916639328, 0.7474504709243774, 0.7472213506698608, 0.747288703918457, 0.7473223209381104, 0.7473889589309692, 0.7473121881484985, 0.7466509342193604, 0.7469504475593567, 0.7473269104957581, 0.7471728920936584, 0.7467994093894958, 0.7464552521705627, 0.746581494808197, 0.7465769648551941, 0.7462416291236877, 0.7460250854492188, 0.746098518371582, 0.7462922930717468, 0.7467703819274902, 0.7467997074127197, 0.7470857501029968, 0.7472459077835083, 0.7470911741256714, 0.7471941709518433, 0.7470740079879761, 0.7474543452262878, 0.7474883794784546, 0.7476226091384888, 0.7474924325942993, 0.7475350499153137, 0.7475871443748474, 0.7476962804794312, 0.7479218244552612, 0.7480954527854919, 0.7480273842811584, 0.7477651238441467, 0.7474581003189087, 0.747505784034729, 0.7474762201309204, 0.747565746307373, 0.7476963400840759, 0.747745931148529, 0.7477102875709534, 0.7477905750274658, 0.7475430965423584, 0.7476845383644104, 0.7476269006729126, 0.7477092742919922, 0.7478508949279785, 0.7477618455886841, 0.7480288147926331, 0.7479312419891357, 0.7480242252349854, 0.7480160593986511, 0.7479421496391296, 0.7474850416183472, 0.747648298740387, 0.747938334941864, 0.7480998039245605, 0.7481057643890381, 0.7477985620498657, 0.7477128505706787, 0.7475026845932007, 0.7474243640899658, 0.7475606203079224, 0.7474429607391357, 0.7476176619529724, 0.7477227449417114, 0.7474180459976196, 0.7475675940513611, 0.7472704648971558, 0.7474045753479004, 0.7474683523178101, 0.7477058172225952, 0.747525691986084, 0.7473846077919006, 0.7472347617149353, 0.7473411560058594, 0.7473084330558777, 0.7473662495613098, 0.7470640540122986, 0.7466388940811157, 0.746819794178009, 0.7471659183502197, 0.7469560503959656, 0.7466585040092468, 0.746456503868103, 0.7465449571609497, 0.7463860511779785, 0.7461796402931213, 0.7461426258087158, 0.7464707493782043, 0.7467459440231323, 0.7469046711921692, 0.7471426725387573, 0.7472712993621826, 0.7472334504127502, 0.7475394010543823, 0.7475866675376892, 0.7475581765174866, 0.747503936290741, 0.7477307319641113, 0.7474517822265625, 0.747346043586731, 0.7472213506698608, 0.7473300099372864, 0.7474654912948608, 0.7474779486656189, 0.7471941113471985, 0.747279942035675, 0.7473814487457275, 0.7471991777420044, 0.7472043633460999, 0.7467987537384033, 0.7464581727981567, 0.7462122440338135, 0.746301531791687, 0.746286153793335, 0.7462530136108398, 0.7462571263313293, 0.7458173036575317, 0.7460446357727051, 0.7461917400360107, 0.7462887763977051, 0.7463343143463135, 0.7464516758918762, 0.7464211583137512, 0.7461315989494324, 0.7461912035942078, 0.745942234992981, 0.7459496259689331, 0.7458707094192505, 0.7460716962814331, 0.7463238835334778, 0.7463526129722595, 0.7461727261543274, 0.7463597059249878, 0.7464871406555176, 0.7464146018028259, 0.7465481162071228, 0.7464941740036011, 0.7464019656181335, 0.746501088142395, 0.7463510632514954, 0.7460330724716187, 0.7459713816642761, 0.7459130883216858, 0.745590090751648, 0.7451133131980896, 0.7450398206710815, 0.7451115846633911, 0.745320200920105, 0.7450976371765137, 0.7453943490982056, 0.7453283071517944, 0.7454242706298828, 0.7451030015945435, 0.7454859614372253, 0.7454426288604736, 0.7455049157142639, 0.7456510663032532, 0.7455626130104065, 0.7455947995185852, 0.7458193302154541, 0.7456031441688538, 0.745650589466095, 0.745513916015625, 0.7454817295074463, 0.7454027533531189, 0.745392382144928, 0.7453935742378235, 0.7455666065216064, 0.7454662322998047, 0.7456124424934387, 0.7457220554351807, 0.7456516027450562, 0.7456745505332947, 0.745807409286499, 0.7457498908042908, 0.7458657622337341, 0.7457691431045532, 0.7456439733505249, 0.745815634727478, 0.7460321187973022, 0.7462237477302551, 0.7460081577301025, 0.7462471127510071, 0.7463202476501465, 0.7464882731437683, 0.7465681433677673, 0.7465450167655945, 0.7467851638793945, 0.7467136979103088, 0.7467036247253418, 0.7464983463287354, 0.7466298937797546, 0.7464084625244141, 0.746300220489502, 0.7463092803955078, 0.7464674711227417, 0.7465952634811401, 0.7467501759529114, 0.7467523217201233, 0.7469475865364075, 0.7469936609268188, 0.7469238638877869, 0.7468595504760742, 0.7465931177139282, 0.7466087341308594, 0.7466081976890564, 0.7464009523391724, 0.7466797828674316, 0.7466073036193848, 0.746692955493927, 0.7469164133071899, 0.7470703125, 0.7470384836196899, 0.7471839785575867, 0.747390627861023, 0.7473912835121155, 0.7470828294754028, 0.7472430467605591, 0.7474237680435181, 0.7474461793899536, 0.7474441528320312, 0.7473464012145996, 0.7474061250686646, 0.7476024627685547, 0.7475550174713135, 0.7474408149719238, 0.7474303245544434, 0.7475973963737488, 0.7473269104957581, 0.7475188970565796, 0.7474667429924011, 0.7475399971008301, 0.7473883032798767, 0.7474619150161743, 0.7474799156188965, 0.7475817203521729, 0.7475369572639465, 0.7475250959396362, 0.7474505305290222, 0.7471654415130615, 0.7471022009849548, 0.747230589389801, 0.7471354007720947, 0.74730384349823, 0.7474929094314575, 0.7475322484970093, 0.7477003335952759, 0.747473418712616, 0.7472884654998779, 0.7476415038108826, 0.7478443384170532, 0.7478759288787842, 0.7478420734405518, 0.7478898167610168, 0.7480495572090149, 0.7480486035346985, 0.7481685876846313, 0.7480146288871765, 0.7482720613479614, 0.7481409311294556, 0.7479440569877625, 0.7479809522628784, 0.7479013204574585, 0.7478213310241699, 0.747683584690094, 0.7477184534072876, 0.7477744817733765, 0.747783362865448, 0.7479080557823181, 0.747992217540741, 0.7480599284172058, 0.7479215860366821, 0.7478382587432861, 0.7479456067085266, 0.7481051087379456, 0.7482182383537292, 0.7483005523681641, 0.7482792139053345, 0.7480830550193787, 0.748266339302063, 0.7484411001205444, 0.7485101819038391, 0.7486997842788696, 0.7487366795539856, 0.7486608028411865, 0.748806893825531, 0.7489607334136963, 0.7489463686943054, 0.7490236759185791, 0.7489815950393677, 0.7491228580474854, 0.7488939762115479, 0.7488833665847778, 0.7489516139030457, 0.748905599117279, 0.7490087747573853, 0.7490473389625549, 0.7491262555122375, 0.7490305304527283, 0.7491957545280457, 0.7493332624435425, 0.7493985295295715, 0.7494767904281616, 0.7493939399719238, 0.7492691874504089, 0.7493152618408203, 0.7494858503341675, 0.7495203614234924, 0.7496388554573059, 0.7496786117553711, 0.7495291829109192, 0.7495518922805786, 0.7496727108955383, 0.7497457265853882, 0.7497571706771851, 0.7498290538787842, 0.7497219443321228, 0.7497926354408264, 0.7497022747993469, 0.7497742176055908, 0.7498810887336731, 0.7500509023666382, 0.7501457333564758, 0.7499755620956421, 0.7498558759689331, 0.749744176864624, 0.7494074106216431, 0.7494698762893677, 0.7495378851890564, 0.7494488954544067, 0.7494828104972839, 0.7495989203453064, 0.7497120499610901, 0.7495229840278625, 0.7495220899581909, 0.7495694756507874, 0.7494724988937378, 0.7495761513710022, 0.7497684955596924, 0.7497456073760986, 0.7499085068702698, 0.749966561794281, 0.7499378323554993, 0.7499863505363464, 0.7499340176582336, 0.7499362230300903, 0.7498875856399536, 0.7499117255210876, 0.750029444694519, 0.7499997615814209, 0.749860942363739, 0.7495948076248169, 0.7496806383132935, 0.7498460412025452, 0.7499658465385437, 0.7500262260437012, 0.7500949501991272, 0.7502773404121399, 0.7500630021095276, 0.7502242922782898, 0.7502924203872681, 0.7504411935806274, 0.7505141496658325, 0.7505770325660706, 0.7505966424942017, 0.7505543828010559, 0.7506870031356812, 0.7505918741226196, 0.75062495470047, 0.750632643699646, 0.7507688403129578, 0.7507817149162292, 0.7507323026657104, 0.7508144378662109, 0.7507826089859009, 0.7508362531661987, 0.7509913444519043, 0.7512000799179077, 0.7510032057762146, 0.7508749961853027, 0.7510219216346741, 0.7509147524833679, 0.7510838508605957, 0.750916063785553, 0.7509530782699585, 0.7509031891822815, 0.7508118152618408, 0.7506611347198486, 0.7506409287452698, 0.7507522702217102, 0.7505501508712769, 0.7507355809211731, 0.7506138682365417, 0.7505753040313721, 0.7507268190383911, 0.7507306337356567, 0.7507694959640503, 0.7507439851760864, 0.7507997751235962, 0.7507050037384033, 0.7507522106170654, 0.7507897615432739, 0.7507903575897217, 0.750673234462738, 0.7508252859115601, 0.7507328987121582, 0.7508103251457214, 0.7508536577224731, 0.7509356737136841, 0.7510010004043579, 0.7509862184524536, 0.7510891556739807, 0.751057505607605, 0.7510380744934082, 0.7511530518531799, 0.7509119510650635, 0.7509796619415283, 0.7509684562683105, 0.7512248158454895, 0.7513971924781799, 0.7514375448226929, 0.7512719035148621, 0.7512228488922119, 0.7512460947036743, 0.7511445879936218, 0.7510185837745667, 0.7511143684387207, 0.7512609362602234, 0.751375138759613, 0.751284122467041, 0.7514181137084961, 0.7514249086380005, 0.7514438033103943, 0.7515329718589783, 0.7515420317649841, 0.7516276836395264, 0.7516595125198364, 0.7516971230506897, 0.7515848278999329, 0.7514467239379883, 0.751319944858551, 0.7515043020248413, 0.7515294551849365, 0.751437783241272, 0.7513680458068848, 0.7512601017951965, 0.7513585090637207, 0.7513284683227539, 0.7512715458869934, 0.7513821125030518, 0.7514225840568542, 0.7513138651847839, 0.7511671185493469, 0.7510638236999512, 0.7509698271751404, 0.7510426640510559, 0.7511407732963562, 0.7511624097824097, 0.7510555386543274, 0.7511120438575745, 0.7511054873466492, 0.7510833144187927, 0.7509874105453491, 0.7508313655853271, 0.7507649660110474, 0.7507430911064148, 0.7507129311561584, 0.7506603002548218, 0.750481903553009, 0.7504121661186218, 0.7505617141723633, 0.7506445646286011, 0.7504202723503113, 0.750347375869751, 0.7502461671829224, 0.7501834630966187, 0.7502206563949585, 0.7503304481506348, 0.7504974603652954, 0.7504564523696899, 0.7503726482391357, 0.7503939270973206, 0.7503312230110168, 0.7502846121788025, 0.7502878904342651, 0.750194787979126, 0.7502079010009766, 0.7502570152282715, 0.7501606345176697, 0.750157356262207, 0.750288188457489, 0.7501643300056458, 0.750323474407196, 0.7502405047416687, 0.7503040432929993, 0.7503841519355774, 0.7503923177719116, 0.7500523924827576, 0.7499964237213135, 0.7498431205749512, 0.7499933242797852, 0.7498581409454346, 0.7500060200691223, 0.7501000761985779, 0.7499900460243225, 0.7499460577964783, 0.7499158978462219, 0.7498689293861389, 0.7498557567596436, 0.7499423027038574, 0.7499045133590698, 0.749987006187439, 0.7501662969589233, 0.7500735521316528, 0.7499077916145325, 0.7497202754020691, 0.7497233748435974, 0.7498160600662231, 0.7497217655181885, 0.7498101592063904, 0.7499947547912598, 0.7498477697372437, 0.7497521042823792, 0.7498425841331482, 0.7497854828834534, 0.7498881220817566, 0.7496277689933777, 0.7494776844978333, 0.7493621706962585, 0.7493486404418945, 0.7494329214096069, 0.7494872808456421, 0.7496431469917297, 0.7497828602790833, 0.749796986579895, 0.7497589588165283, 0.7496779561042786, 0.7496218085289001, 0.7497251629829407, 0.749806821346283, 0.7498400211334229, 0.7498416304588318, 0.7497221231460571, 0.7497122287750244, 0.7497267723083496, 0.7496588826179504, 0.7495766282081604, 0.7495328187942505, 0.7496072053909302, 0.749505877494812, 0.7495293021202087, 0.749517023563385, 0.7494086623191833, 0.7492977380752563, 0.7493236064910889, 0.7492833733558655, 0.7491871118545532, 0.7493110299110413, 0.7490904331207275, 0.7491323351860046, 0.7491472363471985, 0.7490796446800232, 0.7490689754486084, 0.7491428256034851, 0.7492002248764038, 0.7491726875305176, 0.7492365837097168, 0.7493083477020264, 0.7492903470993042, 0.7493955492973328, 0.7494106292724609, 0.7494924664497375, 0.7493597269058228, 0.7493857145309448, 0.7494093179702759, 0.7494140863418579, 0.7494440674781799, 0.7493754029273987, 0.7492679357528687, 0.7493405342102051, 0.7493926286697388, 0.7493199110031128, 0.7494170665740967, 0.749243438243866, 0.7492408156394958, 0.7492724657058716, 0.7490910291671753, 0.7489151954650879, 0.7487927675247192, 0.7486371994018555, 0.7486140131950378, 0.7486910223960876]\n"
          ]
        }
      ]
    },
    {
      "cell_type": "code",
      "source": [
        "# Transformaciones para revertir las operaciones hechas en el dataset\n",
        "inv_normalize = transforms.Normalize(\n",
        "    mean=[-0.5 / 0.5],  # Normalización inversa\n",
        "    std=[1 / 0.5]\n",
        ")\n",
        "# Etiquetas de las clases (ajústalas según tu dataset)\n",
        "class_labels = [\n",
        "    \"T-shirt/top (Camiseta)\", \"Trouser (Pantalón)\", \"Pullover (Suéter)\", \"Dress (Vestido)\", \"Coat (Abrigo)\",\n",
        "    \"Sandal (Sandalia)\", \"Shirt (Camisa)\", \"Sneaker (Zapatilla)\", \"Bag (Bolso)\", \"Ankle Boot (Bota Baja)\"\n",
        "]\n",
        "\n",
        "# Visualizar las imágenes con las predicciones\n",
        "fig, axes = plt.subplots(1, 5, figsize=(15, 5))  # Mostrar 5 imágenes\n",
        "for i in range(5):\n",
        "    image = images1[i]\n",
        "    # Revertir la normalización para mostrar la imagen original\n",
        "    image = inv_normalize(image)\n",
        "    image = image.permute(1, 2, 0).numpy()  # Cambiar formato a HWC para matplotlib\n",
        "\n",
        "    # Mostrar la imagen\n",
        "    axes[i].imshow(image)\n",
        "    axes[i].axis(\"off\")\n",
        "    # Agregar la etiqueta de predicción\n",
        "    pred_label = class_labels[preds[i].item()]\n",
        "    true_label = class_labels[labels[i].item()]\n",
        "    axes[i].set_title(f\"Pred: {pred_label}\\nTrue: {true_label}\")\n",
        "\n",
        "plt.show()"
      ],
      "metadata": {
        "colab": {
          "base_uri": "https://localhost:8080/",
          "height": 280
        },
        "id": "P8BVhfwm9GAB",
        "outputId": "471e99c2-387c-4424-b02a-2721309d4b8e"
      },
      "id": "P8BVhfwm9GAB",
      "execution_count": null,
      "outputs": [
        {
          "output_type": "display_data",
          "data": {
            "text/plain": [
              "<Figure size 1500x500 with 5 Axes>"
            ],
            "image/png": "[encoded data removed]"
          },
          "metadata": {}
        }
      ]
    }
  ],
  "metadata": {
    "colab": {
      "provenance": []
    },
    "kernelspec": {
      "display_name": "Python 3 (ipykernel)",
      "language": "python",
      "name": "python3"
    },
    "language_info": {
      "name": "python",
      "version": "3.8.10",
      "mimetype": "text/x-python",
      "codemirror_mode": {
        "name": "ipython",
        "version": 3
      },
      "pygments_lexer": "ipython3",
      "nbconvert_exporter": "python",
      "file_extension": ".py"
    },
    "editor": "DataLab"
  },
  "nbformat": 4,
  "nbformat_minor": 5
}